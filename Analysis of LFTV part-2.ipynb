{
 "cells": [
  {
   "cell_type": "markdown",
   "id": "01a9c949",
   "metadata": {},
   "source": [
    "#### The next objective is to check which Services affect the customer's LTV."
   ]
  },
  {
   "cell_type": "code",
   "execution_count": 1,
   "id": "097de8af",
   "metadata": {},
   "outputs": [],
   "source": [
    "import pandas as pd\n",
    "import numpy as np\n",
    "import sqlite3\n",
    "import matplotlib.pyplot as plt\n",
    "import seaborn as sns\n",
    "from warnings import filterwarnings"
   ]
  },
  {
   "cell_type": "code",
   "execution_count": 2,
   "id": "f50cafc4",
   "metadata": {},
   "outputs": [],
   "source": [
    "conn= sqlite3.connect('churn.db')"
   ]
  },
  {
   "cell_type": "code",
   "execution_count": 3,
   "id": "b30daf1a",
   "metadata": {},
   "outputs": [],
   "source": [
    "df= pd.read_sql('select * from churn_all', conn)"
   ]
  },
  {
   "cell_type": "code",
   "execution_count": 4,
   "id": "4864e0d7",
   "metadata": {},
   "outputs": [],
   "source": [
    "notchurn_df= pd.read_sql('select * from churn_all where Churn = \"No\"', conn)"
   ]
  },
  {
   "cell_type": "code",
   "execution_count": 5,
   "id": "a3725b9c",
   "metadata": {},
   "outputs": [],
   "source": [
    "churn_df= pd.read_sql('select * from churn_all where Churn = \"Yes\"', conn)"
   ]
  },
  {
   "cell_type": "code",
   "execution_count": 6,
   "id": "936303a9",
   "metadata": {},
   "outputs": [],
   "source": [
    "# Converting TotalCharges to numeric\n",
    "churn_df.TotalCharges.replace(' ','0',inplace= True)    # replacing ' ' with zero\n",
    "\n",
    "# Now converting datatype ot numeric \n",
    "churn_df.TotalCharges= pd.to_numeric(churn_df.TotalCharges)"
   ]
  },
  {
   "cell_type": "code",
   "execution_count": 9,
   "id": "22c13be2",
   "metadata": {},
   "outputs": [
    {
     "data": {
      "text/plain": [
       "No     0.73463\n",
       "Yes    0.26537\n",
       "Name: Churn, dtype: float64"
      ]
     },
     "execution_count": 9,
     "metadata": {},
     "output_type": "execute_result"
    }
   ],
   "source": [
    "df.Churn.value_counts()/df.Churn.shape"
   ]
  },
  {
   "cell_type": "code",
   "execution_count": 150,
   "id": "4c3bcaae",
   "metadata": {
    "scrolled": true
   },
   "outputs": [
    {
     "data": {
      "text/html": [
       "<div>\n",
       "<style scoped>\n",
       "    .dataframe tbody tr th:only-of-type {\n",
       "        vertical-align: middle;\n",
       "    }\n",
       "\n",
       "    .dataframe tbody tr th {\n",
       "        vertical-align: top;\n",
       "    }\n",
       "\n",
       "    .dataframe thead th {\n",
       "        text-align: right;\n",
       "    }\n",
       "</style>\n",
       "<table border=\"1\" class=\"dataframe\">\n",
       "  <thead>\n",
       "    <tr style=\"text-align: right;\">\n",
       "      <th></th>\n",
       "      <th>customerID</th>\n",
       "      <th>Gender</th>\n",
       "      <th>SeniorCitizen</th>\n",
       "      <th>Partner</th>\n",
       "      <th>Dependents</th>\n",
       "      <th>State</th>\n",
       "      <th>Latitude</th>\n",
       "      <th>Longitude</th>\n",
       "      <th>ZipCode</th>\n",
       "      <th>PhoneService</th>\n",
       "      <th>...</th>\n",
       "      <th>TechSupport</th>\n",
       "      <th>StreamingTV</th>\n",
       "      <th>StreamingMovies</th>\n",
       "      <th>Tenure</th>\n",
       "      <th>Contract</th>\n",
       "      <th>PaymentMethod</th>\n",
       "      <th>PaperlessBilling</th>\n",
       "      <th>MonthlyCharges</th>\n",
       "      <th>TotalCharges</th>\n",
       "      <th>Churn</th>\n",
       "    </tr>\n",
       "  </thead>\n",
       "  <tbody>\n",
       "    <tr>\n",
       "      <th>0</th>\n",
       "      <td>3668-QPYBK</td>\n",
       "      <td>Male</td>\n",
       "      <td>No</td>\n",
       "      <td>No</td>\n",
       "      <td>No</td>\n",
       "      <td>California</td>\n",
       "      <td>33.964131</td>\n",
       "      <td>-118.272783</td>\n",
       "      <td>90003</td>\n",
       "      <td>Yes</td>\n",
       "      <td>...</td>\n",
       "      <td>No</td>\n",
       "      <td>No</td>\n",
       "      <td>No</td>\n",
       "      <td>2</td>\n",
       "      <td>Month-to-month</td>\n",
       "      <td>Mailed check</td>\n",
       "      <td>Yes</td>\n",
       "      <td>53.85</td>\n",
       "      <td>108.15</td>\n",
       "      <td>Yes</td>\n",
       "    </tr>\n",
       "    <tr>\n",
       "      <th>1</th>\n",
       "      <td>9237-HQITU</td>\n",
       "      <td>Female</td>\n",
       "      <td>No</td>\n",
       "      <td>No</td>\n",
       "      <td>Yes</td>\n",
       "      <td>California</td>\n",
       "      <td>34.059281</td>\n",
       "      <td>-118.307420</td>\n",
       "      <td>90005</td>\n",
       "      <td>Yes</td>\n",
       "      <td>...</td>\n",
       "      <td>No</td>\n",
       "      <td>No</td>\n",
       "      <td>No</td>\n",
       "      <td>2</td>\n",
       "      <td>Month-to-month</td>\n",
       "      <td>Electronic check</td>\n",
       "      <td>Yes</td>\n",
       "      <td>70.70</td>\n",
       "      <td>151.65</td>\n",
       "      <td>Yes</td>\n",
       "    </tr>\n",
       "    <tr>\n",
       "      <th>2</th>\n",
       "      <td>9305-CDSKC</td>\n",
       "      <td>Female</td>\n",
       "      <td>No</td>\n",
       "      <td>No</td>\n",
       "      <td>Yes</td>\n",
       "      <td>California</td>\n",
       "      <td>34.048013</td>\n",
       "      <td>-118.293953</td>\n",
       "      <td>90006</td>\n",
       "      <td>Yes</td>\n",
       "      <td>...</td>\n",
       "      <td>No</td>\n",
       "      <td>Yes</td>\n",
       "      <td>Yes</td>\n",
       "      <td>8</td>\n",
       "      <td>Month-to-month</td>\n",
       "      <td>Electronic check</td>\n",
       "      <td>Yes</td>\n",
       "      <td>99.65</td>\n",
       "      <td>820.50</td>\n",
       "      <td>Yes</td>\n",
       "    </tr>\n",
       "  </tbody>\n",
       "</table>\n",
       "<p>3 rows × 25 columns</p>\n",
       "</div>"
      ],
      "text/plain": [
       "   customerID  Gender SeniorCitizen Partner Dependents       State   Latitude  \\\n",
       "0  3668-QPYBK    Male            No      No         No  California  33.964131   \n",
       "1  9237-HQITU  Female            No      No        Yes  California  34.059281   \n",
       "2  9305-CDSKC  Female            No      No        Yes  California  34.048013   \n",
       "\n",
       "    Longitude  ZipCode PhoneService  ... TechSupport StreamingTV  \\\n",
       "0 -118.272783    90003          Yes  ...          No          No   \n",
       "1 -118.307420    90005          Yes  ...          No          No   \n",
       "2 -118.293953    90006          Yes  ...          No         Yes   \n",
       "\n",
       "  StreamingMovies Tenure        Contract     PaymentMethod PaperlessBilling  \\\n",
       "0              No      2  Month-to-month      Mailed check              Yes   \n",
       "1              No      2  Month-to-month  Electronic check              Yes   \n",
       "2             Yes      8  Month-to-month  Electronic check              Yes   \n",
       "\n",
       "  MonthlyCharges  TotalCharges Churn  \n",
       "0          53.85        108.15   Yes  \n",
       "1          70.70        151.65   Yes  \n",
       "2          99.65        820.50   Yes  \n",
       "\n",
       "[3 rows x 25 columns]"
      ]
     },
     "execution_count": 150,
     "metadata": {},
     "output_type": "execute_result"
    }
   ],
   "source": [
    "churn_df.head(3)"
   ]
  },
  {
   "cell_type": "code",
   "execution_count": 151,
   "id": "b1260bb2",
   "metadata": {
    "scrolled": true
   },
   "outputs": [
    {
     "data": {
      "text/plain": [
       "Index(['customerID', 'Gender', 'SeniorCitizen', 'Partner', 'Dependents',\n",
       "       'State', 'Latitude', 'Longitude', 'ZipCode', 'PhoneService',\n",
       "       'MultipleLines', 'InternetService', 'OnlineSecurity', 'OnlineBackup',\n",
       "       'DeviceProtection', 'TechSupport', 'StreamingTV', 'StreamingMovies',\n",
       "       'Tenure', 'Contract', 'PaymentMethod', 'PaperlessBilling',\n",
       "       'MonthlyCharges', 'TotalCharges', 'Churn'],\n",
       "      dtype='object')"
      ]
     },
     "execution_count": 151,
     "metadata": {},
     "output_type": "execute_result"
    }
   ],
   "source": [
    "churn_df.columns"
   ]
  },
  {
   "cell_type": "code",
   "execution_count": 152,
   "id": "1074ead4",
   "metadata": {},
   "outputs": [],
   "source": [
    "# Let's make separate dataframe of CHURNED customers as High value cust. &  Low value cust based on 80 percentile of their totalcharges.\n",
    "high_value_customers= churn_df.query('TotalCharges > 2840.41 ')\n",
    "\n",
    "low_value_customers= churn_df.query('TotalCharges < 2840.41 ')"
   ]
  },
  {
   "cell_type": "markdown",
   "id": "25c78aa9",
   "metadata": {},
   "source": [
    "### PhoneService"
   ]
  },
  {
   "cell_type": "code",
   "execution_count": 49,
   "id": "d3831742",
   "metadata": {},
   "outputs": [
    {
     "data": {
      "text/plain": [
       "<AxesSubplot:xlabel='PhoneService', ylabel='count'>"
      ]
     },
     "execution_count": 49,
     "metadata": {},
     "output_type": "execute_result"
    },
    {
     "data": {
      "image/png": "[encoded data removed]",
      "text/plain": [
       "<Figure size 504x360 with 1 Axes>"
      ]
     },
     "metadata": {
      "needs_background": "light"
     },
     "output_type": "display_data"
    }
   ],
   "source": [
    "plt.figure(figsize=(7,5))\n",
    "#sns.barplot(data= df,y='BP',x='AnxtyLH')\n",
    "sns.countplot(x='PhoneService',data=df,hue='Churn',palette='Set1')"
   ]
  },
  {
   "cell_type": "code",
   "execution_count": 178,
   "id": "97e98d4e",
   "metadata": {},
   "outputs": [
    {
     "data": {
      "text/plain": [
       "Yes    0.901044\n",
       "No     0.098956\n",
       "Name: PhoneService, dtype: float64"
      ]
     },
     "execution_count": 178,
     "metadata": {},
     "output_type": "execute_result"
    }
   ],
   "source": [
    "df.PhoneService.value_counts()\n",
    "notchurn_df.PhoneService.value_counts()/notchurn_df.shape[0]"
   ]
  },
  {
   "cell_type": "code",
   "execution_count": 177,
   "id": "b3773f03",
   "metadata": {},
   "outputs": [
    {
     "data": {
      "text/plain": [
       "Yes    0.909042\n",
       "No     0.090958\n",
       "Name: PhoneService, dtype: float64"
      ]
     },
     "execution_count": 177,
     "metadata": {},
     "output_type": "execute_result"
    }
   ],
   "source": [
    "churn_df.PhoneService.value_counts()/churn_df.shape[0]"
   ]
  },
  {
   "cell_type": "code",
   "execution_count": 10,
   "id": "d7359fdc",
   "metadata": {
    "scrolled": true
   },
   "outputs": [
    {
     "data": {
      "text/plain": [
       "Yes    0.892308\n",
       "No     0.107692\n",
       "Name: PhoneService, dtype: float64"
      ]
     },
     "execution_count": 10,
     "metadata": {},
     "output_type": "execute_result"
    }
   ],
   "source": [
    "# Finding relation between PhoneService\n",
    "\n",
    "low_value_customers.PhoneService.value_counts()/low_value_customers.PhoneService.shape"
   ]
  },
  {
   "cell_type": "code",
   "execution_count": 11,
   "id": "c8bc1e40",
   "metadata": {
    "scrolled": true
   },
   "outputs": [
    {
     "data": {
      "text/plain": [
       "Yes    0.975936\n",
       "No     0.024064\n",
       "Name: PhoneService, dtype: float64"
      ]
     },
     "execution_count": 11,
     "metadata": {},
     "output_type": "execute_result"
    }
   ],
   "source": [
    "high_value_customers.PhoneService.value_counts()/high_value_customers.PhoneService.shape"
   ]
  },
  {
   "cell_type": "markdown",
   "id": "5a197a81",
   "metadata": {},
   "source": [
    "Of the 20% (high-LTV) customers, only 2% did not use the phone service. \n",
    "\n",
    "On the other hand, for the customers in the 80% (low-LTV) group, 11% did not use the phone service.\n",
    "\n",
    "This means that not having a phone can determine whether a customer is more likely to belong in the high-LTV or low-LTV group."
   ]
  },
  {
   "cell_type": "markdown",
   "id": "c09b04d0",
   "metadata": {},
   "source": [
    "### Multiple Line (having PhoneService)"
   ]
  },
  {
   "cell_type": "code",
   "execution_count": 62,
   "id": "6a438b2d",
   "metadata": {},
   "outputs": [
    {
     "data": {
      "text/plain": [
       "Text(0.5, 0, 'MULTIPLE LINES')"
      ]
     },
     "execution_count": 62,
     "metadata": {},
     "output_type": "execute_result"
    },
    {
     "data": {
      "image/png": "[encoded data removed]",
      "text/plain": [
       "<Figure size 504x360 with 1 Axes>"
      ]
     },
     "metadata": {
      "needs_background": "light"
     },
     "output_type": "display_data"
    }
   ],
   "source": [
    "plt.figure(figsize=(7,5))\n",
    "#sns.barplot(data= df,y='BP',x='AnxtyLH')\n",
    "sns.countplot(x= 'MultipleLines',data=df,hue='Churn')\n",
    "plt.xlabel('MULTIPLE LINES')"
   ]
  },
  {
   "cell_type": "code",
   "execution_count": 12,
   "id": "f4cab9e1",
   "metadata": {},
   "outputs": [],
   "source": [
    "low_LTV_withPhoneService= low_value_customers.query('PhoneService == \"Yes\"')"
   ]
  },
  {
   "cell_type": "code",
   "execution_count": 13,
   "id": "9d6a16ca",
   "metadata": {
    "scrolled": false
   },
   "outputs": [
    {
     "data": {
      "text/plain": [
       "No     0.590705\n",
       "Yes    0.409295\n",
       "Name: MultipleLines, dtype: float64"
      ]
     },
     "execution_count": 13,
     "metadata": {},
     "output_type": "execute_result"
    }
   ],
   "source": [
    "low_LTV_withPhoneService.MultipleLines.value_counts()/low_LTV_withPhoneService.MultipleLines.shape[0]"
   ]
  },
  {
   "cell_type": "code",
   "execution_count": 14,
   "id": "13acc5d2",
   "metadata": {},
   "outputs": [],
   "source": [
    "high_LTV_withPhoneService= high_value_customers.query(\" PhoneService == 'Yes' \")"
   ]
  },
  {
   "cell_type": "code",
   "execution_count": 15,
   "id": "5a60b472",
   "metadata": {
    "scrolled": false
   },
   "outputs": [
    {
     "data": {
      "text/plain": [
       "Yes    0.832877\n",
       "No     0.167123\n",
       "Name: MultipleLines, dtype: float64"
      ]
     },
     "execution_count": 15,
     "metadata": {},
     "output_type": "execute_result"
    }
   ],
   "source": [
    "high_LTV_withPhoneService.MultipleLines.value_counts()/high_LTV_withPhoneService.shape[0]"
   ]
  },
  {
   "cell_type": "markdown",
   "id": "65693306",
   "metadata": {},
   "source": [
    "Among the customers in the high-LTV group who used the phone service, 83% used multiple lines.\n",
    "On the contrary, of the customers in the low-LTV group, only 41% used multiple lines. \n"
   ]
  },
  {
   "cell_type": "markdown",
   "id": "994498a7",
   "metadata": {},
   "source": [
    "### Internet Service"
   ]
  },
  {
   "cell_type": "code",
   "execution_count": 60,
   "id": "22826fb6",
   "metadata": {},
   "outputs": [
    {
     "data": {
      "text/plain": [
       "Text(0.5, 0, 'INTERNET SERVICES')"
      ]
     },
     "execution_count": 60,
     "metadata": {},
     "output_type": "execute_result"
    },
    {
     "data": {
      "image/png": "[encoded data removed]",
      "text/plain": [
       "<Figure size 504x360 with 1 Axes>"
      ]
     },
     "metadata": {
      "needs_background": "light"
     },
     "output_type": "display_data"
    }
   ],
   "source": [
    "plt.figure(figsize=(7,5))\n",
    "#sns.barplot(data= df,y='BP',x='AnxtyLH')\n",
    "sns.countplot(x= 'InternetService',data=df,hue='Churn',palette='Set2')\n",
    "plt.xlabel('INTERNET SERVICES')"
   ]
  },
  {
   "cell_type": "code",
   "execution_count": 157,
   "id": "a6186f36",
   "metadata": {},
   "outputs": [
    {
     "data": {
      "text/plain": [
       "Fiber optic    3096\n",
       "DSL            2421\n",
       "No             1526\n",
       "Name: InternetService, dtype: int64"
      ]
     },
     "execution_count": 157,
     "metadata": {},
     "output_type": "execute_result"
    }
   ],
   "source": [
    "churn_df.InternetService.value_counts()\n",
    "df.InternetService.value_counts()"
   ]
  },
  {
   "cell_type": "code",
   "execution_count": 158,
   "id": "42f9fe30",
   "metadata": {},
   "outputs": [
    {
     "data": {
      "text/plain": [
       "Fiber optic    0.439585\n",
       "DSL            0.343746\n",
       "No             0.216669\n",
       "Name: InternetService, dtype: float64"
      ]
     },
     "execution_count": 158,
     "metadata": {},
     "output_type": "execute_result"
    }
   ],
   "source": [
    "# Internet Service of low LFTV customers\n",
    "df.InternetService.value_counts()/df.InternetService.shape"
   ]
  },
  {
   "cell_type": "code",
   "execution_count": 17,
   "id": "d2b82ec1",
   "metadata": {},
   "outputs": [
    {
     "data": {
      "text/plain": [
       "Fiber optic    0.640803\n",
       "DSL            0.283612\n",
       "No             0.075585\n",
       "Name: InternetService, dtype: float64"
      ]
     },
     "execution_count": 17,
     "metadata": {},
     "output_type": "execute_result"
    }
   ],
   "source": [
    "# Internet Service of low LFTV customers\n",
    "low_value_customers.InternetService.value_counts()/low_value_customers.InternetService.shape"
   ]
  },
  {
   "cell_type": "code",
   "execution_count": null,
   "id": "161886ef",
   "metadata": {},
   "outputs": [],
   "source": []
  },
  {
   "cell_type": "code",
   "execution_count": 18,
   "id": "9cbdb214",
   "metadata": {
    "scrolled": false
   },
   "outputs": [
    {
     "data": {
      "text/plain": [
       "Fiber optic    0.906417\n",
       "DSL            0.093583\n",
       "Name: InternetService, dtype: float64"
      ]
     },
     "execution_count": 18,
     "metadata": {},
     "output_type": "execute_result"
    }
   ],
   "source": [
    "# Internet Service of high LFTV customers\n",
    "high_value_customers.InternetService.value_counts()/high_value_customers.InternetService.shape"
   ]
  },
  {
   "cell_type": "markdown",
   "id": "3865cb27",
   "metadata": {},
   "source": [
    "In the high-LTV group, All the customers used the internet service and 90% of them used a fiber optic connection.\n",
    "\n",
    "On the other hand, among the low-LTV (80%) customers, 7.5% did not use the internet service and only 64% of them used a fiber optic connection. "
   ]
  },
  {
   "cell_type": "code",
   "execution_count": 58,
   "id": "beef4893",
   "metadata": {},
   "outputs": [
    {
     "data": {
      "text/plain": [
       "<AxesSubplot:xlabel='InternetService', ylabel='count'>"
      ]
     },
     "execution_count": 58,
     "metadata": {},
     "output_type": "execute_result"
    },
    {
     "data": {
      "image/png": "[encoded data removed]",
      "text/plain": [
       "<Figure size 864x576 with 3 Axes>"
      ]
     },
     "metadata": {
      "needs_background": "light"
     },
     "output_type": "display_data"
    }
   ],
   "source": [
    "# CATE- NUM PLOT\n",
    "plt.figure(figsize=(12,8))\n",
    "plt.subplot(2,2,1)\n",
    "#sns.barplot(data= df,y='BP',x='AnxtyLH')\n",
    "sns.countplot(x='PhoneService',data=df,hue='Churn',palette='Set1')\n",
    "\n",
    "plt.subplot(2,2,3)\n",
    "#sns.barplot(data= df,y='Age',x='AnxtyLH')\n",
    "sns.countplot(x='MultipleLines',data=df,hue='Churn')\n",
    "\n",
    "plt.subplot(2,2,2)\n",
    "#sns.barplot(data= df,x='DrugR',y='BP')\n",
    "sns.countplot(x= 'InternetService',data=df,hue='Churn',palette='Set2')\n",
    "\n",
    "#plt.subplot(2,2,4)\n",
    "#sns.barplot(data= df,y='Age',x='DrugR')\n",
    "#sns.histplot(x='Age',data=df,hue='DrugR',palette='Set1')"
   ]
  },
  {
   "cell_type": "markdown",
   "id": "f541280e",
   "metadata": {},
   "source": [
    "### Other SubServices\n",
    "#### Percentage other subServices along with InternetService"
   ]
  },
  {
   "cell_type": "code",
   "execution_count": 130,
   "id": "4b8d02a3",
   "metadata": {},
   "outputs": [],
   "source": [
    "InternetServices= df.query(\"InternetService != 'No' \")"
   ]
  },
  {
   "cell_type": "code",
   "execution_count": 131,
   "id": "f0de9094",
   "metadata": {},
   "outputs": [],
   "source": [
    "df_percentage_Internet_subservices= np.array([InternetServices.query(\" OnlineSecurity == 'Yes'\").shape[0]/InternetServices.shape[0],\n",
    "                                        InternetServices.query(\" TechSupport == 'Yes'\").shape[0]/InternetServices.shape[0],\n",
    "                                         InternetServices.query(\" OnlineBackup == 'Yes'\").shape[0]/InternetServices.shape[0],\n",
    "                                         InternetServices.query(\" DeviceProtection == 'Yes'\").shape[0]/InternetServices.shape[0],\n",
    "                                         InternetServices.query(\" StreamingTV == 'Yes'\").shape[0]/InternetServices.shape[0],\n",
    "                                         InternetServices.query(\" StreamingMovies == 'Yes'\").shape[0]/InternetServices.shape[0]])"
   ]
  },
  {
   "cell_type": "code",
   "execution_count": 132,
   "id": "a1c3ca41",
   "metadata": {},
   "outputs": [],
   "source": [
    "# We have percentages as a numpy  array, storing it into list\n",
    "df_percentage_Internet_subservices= df_percentage_Internet_subservices.tolist()"
   ]
  },
  {
   "cell_type": "code",
   "execution_count": 133,
   "id": "5d25359f",
   "metadata": {},
   "outputs": [
    {
     "data": {
      "text/plain": [
       "[0.36595976073953235,\n",
       " 0.37049120899039334,\n",
       " 0.44027551205365234,\n",
       " 0.4390067065434113,\n",
       " 0.4906652166032264,\n",
       " 0.49519666485408737]"
      ]
     },
     "execution_count": 133,
     "metadata": {},
     "output_type": "execute_result"
    }
   ],
   "source": [
    "df_percentage_Internet_subservices"
   ]
  },
  {
   "cell_type": "code",
   "execution_count": 134,
   "id": "83b2b51e",
   "metadata": {},
   "outputs": [],
   "source": [
    "df_percentage_Internet_subservices= [i*100 for i in df_percentage_Internet_subservices]\n"
   ]
  },
  {
   "cell_type": "code",
   "execution_count": 135,
   "id": "2c28e7b6",
   "metadata": {},
   "outputs": [
    {
     "data": {
      "text/plain": [
       "[36.59597607395323,\n",
       " 37.04912089903934,\n",
       " 44.027551205365235,\n",
       " 43.90067065434113,\n",
       " 49.066521660322636,\n",
       " 49.519666485408735]"
      ]
     },
     "execution_count": 135,
     "metadata": {},
     "output_type": "execute_result"
    }
   ],
   "source": [
    "df_percentage_Internet_subservices"
   ]
  },
  {
   "cell_type": "code",
   "execution_count": 136,
   "id": "27b4d3ef",
   "metadata": {},
   "outputs": [],
   "source": [
    "internet_services= ['OnlineSecurity','TechSupport','OnlineBackup','DeviceProtection','StreamingTV','StreamingMovies'] "
   ]
  },
  {
   "cell_type": "code",
   "execution_count": 137,
   "id": "2150bda3",
   "metadata": {},
   "outputs": [],
   "source": [
    "IS_df= pd.DataFrame({'SERVICES_NAME': internet_services, 'Percentage_Usage': df_percentage_Internet_subservices})"
   ]
  },
  {
   "cell_type": "code",
   "execution_count": 141,
   "id": "c4a1c5bd",
   "metadata": {},
   "outputs": [
    {
     "name": "stderr",
     "output_type": "stream",
     "text": [
      "C:\\Users\\hp\\anaconda3\\lib\\site-packages\\seaborn\\_decorators.py:36: FutureWarning: Pass the following variable as a keyword arg: x. From version 0.12, the only valid positional argument will be `data`, and passing other arguments without an explicit keyword will result in an error or misinterpretation.\n",
      "  warnings.warn(\n"
     ]
    },
    {
     "data": {
      "text/plain": [
       "<AxesSubplot:xlabel='OnlineSecurity', ylabel='count'>"
      ]
     },
     "execution_count": 141,
     "metadata": {},
     "output_type": "execute_result"
    },
    {
     "data": {
      "image/png": "[encoded data removed]",
      "text/plain": [
       "<Figure size 432x288 with 1 Axes>"
      ]
     },
     "metadata": {
      "needs_background": "light"
     },
     "output_type": "display_data"
    }
   ],
   "source": [
    "sns.countplot(df.OnlineSecurity, hue= df.Churn)"
   ]
  },
  {
   "cell_type": "code",
   "execution_count": 139,
   "id": "df3de1a6",
   "metadata": {},
   "outputs": [
    {
     "data": {
      "text/plain": [
       "Text(0, 0.5, 'USAGE IN %')"
      ]
     },
     "execution_count": 139,
     "metadata": {},
     "output_type": "execute_result"
    },
    {
     "data": {
      "image/png": "[encoded data removed]",
      "text/plain": [
       "<Figure size 648x360 with 1 Axes>"
      ]
     },
     "metadata": {
      "needs_background": "light"
     },
     "output_type": "display_data"
    }
   ],
   "source": [
    "plt.figure(figsize= (9,5))\n",
    "sns.barplot(x= IS_df.SERVICES_NAME, y= IS_df.Percentage_Usage)\n",
    "plt.ylabel(\"USAGE IN %\" )"
   ]
  },
  {
   "cell_type": "code",
   "execution_count": null,
   "id": "5134f248",
   "metadata": {},
   "outputs": [],
   "source": []
  },
  {
   "cell_type": "code",
   "execution_count": 153,
   "id": "5f7d6794",
   "metadata": {},
   "outputs": [],
   "source": [
    "low_LTV_withInternetService= low_value_customers.query(\"InternetService != 'No' \")"
   ]
  },
  {
   "cell_type": "code",
   "execution_count": 154,
   "id": "f6df150a",
   "metadata": {},
   "outputs": [],
   "source": [
    "percetage_Internet_subservices= np.array([low_LTV_withInternetService.query(\" OnlineSecurity == 'Yes'\").shape[0]/low_LTV_withInternetService.shape[0],\n",
    "                                        low_LTV_withInternetService.query(\" TechSupport == 'Yes'\").shape[0]/low_LTV_withInternetService.shape[0],\n",
    "                                         low_LTV_withInternetService.query(\" OnlineBackup == 'Yes'\").shape[0]/low_LTV_withInternetService.shape[0],\n",
    "                                         low_LTV_withInternetService.query(\" DeviceProtection == 'Yes'\").shape[0]/low_LTV_withInternetService.shape[0],\n",
    "                                         low_LTV_withInternetService.query(\" StreamingTV == 'Yes'\").shape[0]/low_LTV_withInternetService.shape[0],\n",
    "                                         low_LTV_withInternetService.query(\" StreamingMovies == 'Yes'\").shape[0]/low_LTV_withInternetService.shape[0]])"
   ]
  },
  {
   "cell_type": "code",
   "execution_count": 155,
   "id": "6e398df0",
   "metadata": {},
   "outputs": [],
   "source": [
    "# We have percentages as a numpy  array, storing it into list\n",
    "percentage_Internet_subservices= list(percetage_Internet_subservices)"
   ]
  },
  {
   "cell_type": "code",
   "execution_count": 156,
   "id": "0fbbb6a7",
   "metadata": {},
   "outputs": [
    {
     "data": {
      "text/plain": [
       "array([0.1316932 , 0.13603473, 0.22720695, 0.23516643, 0.37698987,\n",
       "       0.3813314 ])"
      ]
     },
     "execution_count": 156,
     "metadata": {},
     "output_type": "execute_result"
    }
   ],
   "source": [
    "percetage_Internet_subservices"
   ]
  },
  {
   "cell_type": "code",
   "execution_count": null,
   "id": "a2639608",
   "metadata": {},
   "outputs": [],
   "source": [
    "   "
   ]
  },
  {
   "cell_type": "code",
   "execution_count": 34,
   "id": "5de6382c",
   "metadata": {},
   "outputs": [
    {
     "data": {
      "text/html": [
       "<div>\n",
       "<style scoped>\n",
       "    .dataframe tbody tr th:only-of-type {\n",
       "        vertical-align: middle;\n",
       "    }\n",
       "\n",
       "    .dataframe tbody tr th {\n",
       "        vertical-align: top;\n",
       "    }\n",
       "\n",
       "    .dataframe thead th {\n",
       "        text-align: right;\n",
       "    }\n",
       "</style>\n",
       "<table border=\"1\" class=\"dataframe\">\n",
       "  <thead>\n",
       "    <tr style=\"text-align: right;\">\n",
       "      <th></th>\n",
       "      <th>Service_name</th>\n",
       "      <th>percentage_usage</th>\n",
       "    </tr>\n",
       "  </thead>\n",
       "  <tbody>\n",
       "    <tr>\n",
       "      <th>0</th>\n",
       "      <td>OnlineSecurity</td>\n",
       "      <td>0.131693</td>\n",
       "    </tr>\n",
       "    <tr>\n",
       "      <th>1</th>\n",
       "      <td>TechSupport</td>\n",
       "      <td>0.136035</td>\n",
       "    </tr>\n",
       "    <tr>\n",
       "      <th>2</th>\n",
       "      <td>OnlineBackup</td>\n",
       "      <td>0.227207</td>\n",
       "    </tr>\n",
       "    <tr>\n",
       "      <th>3</th>\n",
       "      <td>DeviceProtection</td>\n",
       "      <td>0.235166</td>\n",
       "    </tr>\n",
       "    <tr>\n",
       "      <th>4</th>\n",
       "      <td>StreamingTV</td>\n",
       "      <td>0.376990</td>\n",
       "    </tr>\n",
       "    <tr>\n",
       "      <th>5</th>\n",
       "      <td>StreamingMovies</td>\n",
       "      <td>0.381331</td>\n",
       "    </tr>\n",
       "  </tbody>\n",
       "</table>\n",
       "</div>"
      ],
      "text/plain": [
       "       Service_name  percentage_usage\n",
       "0    OnlineSecurity          0.131693\n",
       "1       TechSupport          0.136035\n",
       "2      OnlineBackup          0.227207\n",
       "3  DeviceProtection          0.235166\n",
       "4       StreamingTV          0.376990\n",
       "5   StreamingMovies          0.381331"
      ]
     },
     "execution_count": 34,
     "metadata": {},
     "output_type": "execute_result"
    }
   ],
   "source": [
    "IS_df= pd.DataFrame({'Service_name': internet_services, 'percentage_usage': percentage_Internet_subservices})\n",
    "IS_df\n",
    "#sns.countplot(percentage_Internet_subservices)"
   ]
  },
  {
   "cell_type": "code",
   "execution_count": null,
   "id": "22f70be4",
   "metadata": {},
   "outputs": [],
   "source": []
  },
  {
   "cell_type": "code",
   "execution_count": 29,
   "id": "9fe46d45",
   "metadata": {
    "scrolled": true
   },
   "outputs": [
    {
     "name": "stdout",
     "output_type": "stream",
     "text": [
      "percentage of low_LTV_customer availing OnlineSecurity -> 0.1316931982633864\n",
      "percentage of low_LTV_customer availing TechSupport -> 0.13603473227206947\n",
      "percentage of low_LTV_customer availing OnlineBackup -> 0.2272069464544139\n",
      "percentage of low_LTV_customer availing DeviceProtection -> 0.23516642547033284\n",
      "percentage of low_LTV_customer availing StreamingTV -> 0.37698986975397974\n",
      "percentage of low_LTV_customer availing StreamingMovies -> 0.38133140376266283\n"
     ]
    }
   ],
   "source": [
    "import itertools\n",
    "for (i,j) in zip(percetage_Internet_subservices,internet_services):\n",
    "    print(f'percentage of low_LTV_customer availing {j} -> {i}')"
   ]
  },
  {
   "cell_type": "code",
   "execution_count": null,
   "id": "85645074",
   "metadata": {},
   "outputs": [],
   "source": []
  },
  {
   "cell_type": "code",
   "execution_count": 36,
   "id": "c0a575aa",
   "metadata": {},
   "outputs": [],
   "source": [
    "high_LTV_withInternetService= high_value_customers.query(\"InternetService != 'No' \")"
   ]
  },
  {
   "cell_type": "code",
   "execution_count": 37,
   "id": "ecfeb9ea",
   "metadata": {},
   "outputs": [],
   "source": [
    "percetage_Internet_subservices_highLTV= np.array([high_LTV_withInternetService.query(\" OnlineSecurity == 'Yes'\").shape[0]/high_LTV_withInternetService.shape[0],\n",
    "                                        high_LTV_withInternetService.query(\" TechSupport == 'Yes'\").shape[0]/high_LTV_withInternetService.shape[0],\n",
    "                                         high_LTV_withInternetService.query(\" OnlineBackup == 'Yes'\").shape[0]/high_LTV_withInternetService.shape[0],\n",
    "                                         high_LTV_withInternetService.query(\" DeviceProtection == 'Yes'\").shape[0]/high_LTV_withInternetService.shape[0],\n",
    "                                         high_LTV_withInternetService.query(\" StreamingTV == 'Yes'\").shape[0]/high_LTV_withInternetService.shape[0],\n",
    "                                         high_LTV_withInternetService.query(\" StreamingMovies == 'Yes'\").shape[0]/high_LTV_withInternetService.shape[0]])"
   ]
  },
  {
   "cell_type": "code",
   "execution_count": 38,
   "id": "bb0c457a",
   "metadata": {},
   "outputs": [],
   "source": [
    "percetage_Internet_subservices_highLTV= list(percetage_Internet_subservices_highLTV)"
   ]
  },
  {
   "cell_type": "code",
   "execution_count": 39,
   "id": "9fb0d6d1",
   "metadata": {},
   "outputs": [],
   "source": [
    "IS_df2= pd.DataFrame({'Service_name': internet_services, 'percentage_usage': percetage_Internet_subservices_highLTV})"
   ]
  },
  {
   "cell_type": "code",
   "execution_count": 41,
   "id": "5da54dbf",
   "metadata": {},
   "outputs": [
    {
     "data": {
      "text/plain": [
       "<AxesSubplot:xlabel='Service_name', ylabel='percentage_usage'>"
      ]
     },
     "execution_count": 41,
     "metadata": {},
     "output_type": "execute_result"
    },
    {
     "data": {
      "image/png": "[encoded data removed]",
      "text/plain": [
       "<Figure size 432x288 with 1 Axes>"
      ]
     },
     "metadata": {
      "needs_background": "light"
     },
     "output_type": "display_data"
    }
   ],
   "source": [
    "sns.barplot(x= IS_df2.Service_name, y= IS_df2.percentage_usage)"
   ]
  },
  {
   "cell_type": "code",
   "execution_count": 112,
   "id": "51efbf87",
   "metadata": {
    "scrolled": true
   },
   "outputs": [
    {
     "name": "stdout",
     "output_type": "stream",
     "text": [
      "percentage of low_LTV_customer availing OnlineSecurity -> 0.30213903743315507\n",
      "percentage of low_LTV_customer availing TechSupport -> 0.32620320855614976\n",
      "percentage of low_LTV_customer availing OnlineBackup -> 0.5588235294117647\n",
      "percentage of low_LTV_customer availing DeviceProtection -> 0.5882352941176471\n",
      "percentage of low_LTV_customer availing StreamingTV -> 0.7834224598930482\n",
      "percentage of low_LTV_customer availing StreamingMovies -> 0.7780748663101604\n"
     ]
    }
   ],
   "source": [
    "for (i,j) in zip(percetage_Internet_subservices_highLTV,internet_services):\n",
    "    print(f'percentage of low_LTV_customer availing {j} -> {i}')"
   ]
  },
  {
   "cell_type": "markdown",
   "id": "282a7263",
   "metadata": {},
   "source": [
    "we were able to draw these conclusions:\n",
    "\n",
    "About 80% of the customers in the top 20% use both streaming movies and streaming TV.\n",
    "For the bottom 80%, this value is only about 40%.\n",
    "This suggests that streaming TV and streaming movies are factors that could influence the LTVs of the customers.\n",
    "Apart from this, we can also see a significant difference in the usage of device protection and online backup, which are being used by about 55% of the customers in the high-LTV group as opposed to only 22% in the low-LTV group."
   ]
  },
  {
   "cell_type": "markdown",
   "id": "05d39250",
   "metadata": {},
   "source": [
    "### What is the proportion of kind of Contract Churned customers had?"
   ]
  },
  {
   "cell_type": "code",
   "execution_count": 170,
   "id": "c0f69fce",
   "metadata": {},
   "outputs": [
    {
     "name": "stderr",
     "output_type": "stream",
     "text": [
      "C:\\Users\\hp\\anaconda3\\lib\\site-packages\\seaborn\\_decorators.py:36: FutureWarning: Pass the following variable as a keyword arg: x. From version 0.12, the only valid positional argument will be `data`, and passing other arguments without an explicit keyword will result in an error or misinterpretation.\n",
      "  warnings.warn(\n"
     ]
    },
    {
     "data": {
      "text/plain": [
       "Text(0.5, 0, 'CONTRACT')"
      ]
     },
     "execution_count": 170,
     "metadata": {},
     "output_type": "execute_result"
    },
    {
     "data": {
      "image/png": "[encoded data removed]",
      "text/plain": [
       "<Figure size 576x360 with 1 Axes>"
      ]
     },
     "metadata": {
      "needs_background": "light"
     },
     "output_type": "display_data"
    }
   ],
   "source": [
    "plt.figure(figsize= (8,5))\n",
    "sns.countplot(df.Contract, hue= df.Churn, )\n",
    "plt.xlabel('CONTRACT')"
   ]
  },
  {
   "cell_type": "code",
   "execution_count": 162,
   "id": "335f5fe4",
   "metadata": {},
   "outputs": [
    {
     "data": {
      "text/plain": [
       "Month-to-month    0.885500\n",
       "One year          0.088818\n",
       "Two year          0.025682\n",
       "Name: Contract, dtype: float64"
      ]
     },
     "execution_count": 162,
     "metadata": {},
     "output_type": "execute_result"
    }
   ],
   "source": [
    "churn_df.Contract.value_counts()/churn_df.Contract.shape"
   ]
  },
  {
   "cell_type": "code",
   "execution_count": 114,
   "id": "10cf2999",
   "metadata": {
    "scrolled": true
   },
   "outputs": [
    {
     "data": {
      "text/plain": [
       "Month-to-month    0.590909\n",
       "One year          0.296791\n",
       "Two year          0.112299\n",
       "Name: Contract, dtype: float64"
      ]
     },
     "execution_count": 114,
     "metadata": {},
     "output_type": "execute_result"
    }
   ],
   "source": [
    "high_value_customers.Contract.value_counts()/high_value_customers.shape[0]"
   ]
  },
  {
   "cell_type": "code",
   "execution_count": 115,
   "id": "51a06513",
   "metadata": {
    "scrolled": true
   },
   "outputs": [
    {
     "data": {
      "text/plain": [
       "Month-to-month    0.959197\n",
       "One year          0.036789\n",
       "Two year          0.004013\n",
       "Name: Contract, dtype: float64"
      ]
     },
     "execution_count": 115,
     "metadata": {},
     "output_type": "execute_result"
    }
   ],
   "source": [
    "low_value_customers.Contract.value_counts()/low_value_customers.shape[0]"
   ]
  },
  {
   "cell_type": "code",
   "execution_count": null,
   "id": "d9f9a68a",
   "metadata": {},
   "outputs": [],
   "source": []
  },
  {
   "cell_type": "markdown",
   "id": "64968649",
   "metadata": {},
   "source": [
    "### comparing non Churning customers"
   ]
  },
  {
   "cell_type": "code",
   "execution_count": null,
   "id": "fa737e22",
   "metadata": {},
   "outputs": [],
   "source": []
  },
  {
   "cell_type": "code",
   "execution_count": 164,
   "id": "5731c628",
   "metadata": {},
   "outputs": [],
   "source": [
    "not_churn_df= pd.read_sql('select * from churn_all where Churn== \"No\" ',conn)"
   ]
  },
  {
   "cell_type": "code",
   "execution_count": 166,
   "id": "90fe81a0",
   "metadata": {},
   "outputs": [],
   "source": [
    "# Converting TotalCharges to numeric\n",
    "not_churn_df.TotalCharges.replace(' ','0',inplace= True)    # replacing ' ' with zero\n",
    "\n",
    "# Now converting datatype ot numeric \n",
    "not_churn_df.TotalCharges= pd.to_numeric(not_churn_df.TotalCharges)"
   ]
  },
  {
   "cell_type": "code",
   "execution_count": 128,
   "id": "1c0ad39e",
   "metadata": {
    "scrolled": false
   },
   "outputs": [
    {
     "data": {
      "text/plain": [
       "count    5174.000000\n",
       "mean     2549.911442\n",
       "std      2329.954215\n",
       "min         0.000000\n",
       "25%       572.900000\n",
       "50%      1679.525000\n",
       "75%      4262.850000\n",
       "max      8672.450000\n",
       "Name: TotalCharges, dtype: float64"
      ]
     },
     "execution_count": 128,
     "metadata": {},
     "output_type": "execute_result"
    }
   ],
   "source": [
    "not_churn_df.TotalCharges.describe()"
   ]
  },
  {
   "cell_type": "code",
   "execution_count": 129,
   "id": "df6f313a",
   "metadata": {},
   "outputs": [
    {
     "data": {
      "text/plain": [
       "4890.900000000001"
      ]
     },
     "execution_count": 129,
     "metadata": {},
     "output_type": "execute_result"
    }
   ],
   "source": [
    "not_churn_df.TotalCharges.quantile(0.8)"
   ]
  },
  {
   "cell_type": "code",
   "execution_count": 167,
   "id": "f52cc10d",
   "metadata": {},
   "outputs": [],
   "source": [
    "# Let's make separate dataframe of CHURNED customers as High value cust. &  Low value cust.\n",
    "high_value_customers= not_churn_df.query('TotalCharges > 4890 ')\n",
    "\n",
    "low_value_customers= not_churn_df.query('TotalCharges < 4890 ')"
   ]
  },
  {
   "cell_type": "code",
   "execution_count": 132,
   "id": "71592ff1",
   "metadata": {},
   "outputs": [],
   "source": [
    "# Comparing Contract of notChurned customers"
   ]
  },
  {
   "cell_type": "code",
   "execution_count": 163,
   "id": "dbaee8e1",
   "metadata": {},
   "outputs": [
    {
     "data": {
      "text/plain": [
       "Month-to-month    0.429068\n",
       "Two year          0.318322\n",
       "One year          0.252609\n",
       "Name: Contract, dtype: float64"
      ]
     },
     "execution_count": 163,
     "metadata": {},
     "output_type": "execute_result"
    }
   ],
   "source": [
    "notchurn_df.Contract.value_counts()/notchurn_df.Contract.shape"
   ]
  },
  {
   "cell_type": "code",
   "execution_count": 133,
   "id": "f081cc11",
   "metadata": {
    "scrolled": true
   },
   "outputs": [
    {
     "data": {
      "text/plain": [
       "Two year          0.573359\n",
       "One year          0.279923\n",
       "Month-to-month    0.146718\n",
       "Name: Contract, dtype: float64"
      ]
     },
     "execution_count": 133,
     "metadata": {},
     "output_type": "execute_result"
    }
   ],
   "source": [
    "high_value_customers.Contract.value_counts()/ high_value_customers.shape[0]"
   ]
  },
  {
   "cell_type": "code",
   "execution_count": 168,
   "id": "ddd364ef",
   "metadata": {
    "scrolled": false
   },
   "outputs": [
    {
     "data": {
      "text/plain": [
       "Month-to-month    0.499758\n",
       "Two year          0.254471\n",
       "One year          0.245771\n",
       "Name: Contract, dtype: float64"
      ]
     },
     "execution_count": 168,
     "metadata": {},
     "output_type": "execute_result"
    }
   ],
   "source": [
    "low_value_customers.Contract.value_counts()/low_value_customers.shape[0]"
   ]
  },
  {
   "cell_type": "markdown",
   "id": "15985ee4",
   "metadata": {},
   "source": [
    "We can conclude that among most valuable customers (top 20% of notChurned customers), 57% of them had 2 Year Contract. While 80%ile of notChurned customers also had 25% each of them having 1Year or 2Year contract."
   ]
  },
  {
   "cell_type": "markdown",
   "id": "870b4d50",
   "metadata": {},
   "source": [
    "But, Only Churned Customers had very least of them having 1 or 2 Year Contract. So, Contract is a very important factor affecting Churning rate."
   ]
  },
  {
   "cell_type": "markdown",
   "id": "e68ef96c",
   "metadata": {},
   "source": [
    "So, from this analysis, we found that people are less likely to churn if they have a 2-year or a 1-year contract as compared with a month-to-month contract."
   ]
  },
  {
   "cell_type": "code",
   "execution_count": null,
   "id": "33c606ba",
   "metadata": {},
   "outputs": [],
   "source": []
  }
 ],
 "metadata": {
  "kernelspec": {
   "display_name": "Python 3 (ipykernel)",
   "language": "python",
   "name": "python3"
  },
  "language_info": {
   "codemirror_mode": {
    "name": "ipython",
    "version": 3
   },
   "file_extension": ".py",
   "mimetype": "text/x-python",
   "name": "python",
   "nbconvert_exporter": "python",
   "pygments_lexer": "ipython3",
   "version": "3.9.7"
  }
 },
 "nbformat": 4,
 "nbformat_minor": 5
}
