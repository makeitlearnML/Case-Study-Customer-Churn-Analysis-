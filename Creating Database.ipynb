{
 "cells": [
  {
   "cell_type": "code",
   "execution_count": 1,
   "id": "c2334a3f",
   "metadata": {},
   "outputs": [],
   "source": [
    "import pandas as pd\n",
    "import sqlite3"
   ]
  },
  {
   "cell_type": "code",
   "execution_count": 8,
   "id": "a25a9c79",
   "metadata": {},
   "outputs": [],
   "source": [
    "customer= pd.read_csv('customer.csv')\n",
    "\n",
    "cust_services= pd.read_csv('cust_services.csv')\n",
    "\n",
    "cust_loc= pd.read_csv('cust_loc.csv')\n",
    "\n",
    "cust_churn= pd.read_csv('cust_churn.csv')\n",
    "\n",
    "cust_account= pd.read_csv('cust_account.csv')"
   ]
  },
  {
   "cell_type": "code",
   "execution_count": 9,
   "id": "6d83cb07",
   "metadata": {},
   "outputs": [
    {
     "data": {
      "text/html": [
       "<div>\n",
       "<style scoped>\n",
       "    .dataframe tbody tr th:only-of-type {\n",
       "        vertical-align: middle;\n",
       "    }\n",
       "\n",
       "    .dataframe tbody tr th {\n",
       "        vertical-align: top;\n",
       "    }\n",
       "\n",
       "    .dataframe thead th {\n",
       "        text-align: right;\n",
       "    }\n",
       "</style>\n",
       "<table border=\"1\" class=\"dataframe\">\n",
       "  <thead>\n",
       "    <tr style=\"text-align: right;\">\n",
       "      <th></th>\n",
       "      <th>CustomerID</th>\n",
       "      <th>Gender</th>\n",
       "      <th>SeniorCitizen</th>\n",
       "      <th>Partner</th>\n",
       "      <th>Dependents</th>\n",
       "    </tr>\n",
       "  </thead>\n",
       "  <tbody>\n",
       "    <tr>\n",
       "      <th>0</th>\n",
       "      <td>3668-QPYBK</td>\n",
       "      <td>Male</td>\n",
       "      <td>No</td>\n",
       "      <td>No</td>\n",
       "      <td>No</td>\n",
       "    </tr>\n",
       "    <tr>\n",
       "      <th>1</th>\n",
       "      <td>9237-HQITU</td>\n",
       "      <td>Female</td>\n",
       "      <td>No</td>\n",
       "      <td>No</td>\n",
       "      <td>Yes</td>\n",
       "    </tr>\n",
       "    <tr>\n",
       "      <th>2</th>\n",
       "      <td>9305-CDSKC</td>\n",
       "      <td>Female</td>\n",
       "      <td>No</td>\n",
       "      <td>No</td>\n",
       "      <td>Yes</td>\n",
       "    </tr>\n",
       "  </tbody>\n",
       "</table>\n",
       "</div>"
      ],
      "text/plain": [
       "   CustomerID  Gender SeniorCitizen Partner Dependents\n",
       "0  3668-QPYBK    Male            No      No         No\n",
       "1  9237-HQITU  Female            No      No        Yes\n",
       "2  9305-CDSKC  Female            No      No        Yes"
      ]
     },
     "execution_count": 9,
     "metadata": {},
     "output_type": "execute_result"
    }
   ],
   "source": [
    "customer.head(3)"
   ]
  },
  {
   "cell_type": "code",
   "execution_count": 10,
   "id": "e9fdc6a6",
   "metadata": {},
   "outputs": [
    {
     "data": {
      "text/html": [
       "<div>\n",
       "<style scoped>\n",
       "    .dataframe tbody tr th:only-of-type {\n",
       "        vertical-align: middle;\n",
       "    }\n",
       "\n",
       "    .dataframe tbody tr th {\n",
       "        vertical-align: top;\n",
       "    }\n",
       "\n",
       "    .dataframe thead th {\n",
       "        text-align: right;\n",
       "    }\n",
       "</style>\n",
       "<table border=\"1\" class=\"dataframe\">\n",
       "  <thead>\n",
       "    <tr style=\"text-align: right;\">\n",
       "      <th></th>\n",
       "      <th>Cust_ID</th>\n",
       "      <th>PhoneService</th>\n",
       "      <th>MultipleLines</th>\n",
       "      <th>InternetService</th>\n",
       "      <th>OnlineSecurity</th>\n",
       "      <th>OnlineBackup</th>\n",
       "      <th>DeviceProtection</th>\n",
       "      <th>TechSupport</th>\n",
       "      <th>StreamingTV</th>\n",
       "      <th>StreamingMovies</th>\n",
       "    </tr>\n",
       "  </thead>\n",
       "  <tbody>\n",
       "    <tr>\n",
       "      <th>0</th>\n",
       "      <td>3668-QPYBK</td>\n",
       "      <td>Yes</td>\n",
       "      <td>No</td>\n",
       "      <td>DSL</td>\n",
       "      <td>Yes</td>\n",
       "      <td>Yes</td>\n",
       "      <td>No</td>\n",
       "      <td>No</td>\n",
       "      <td>No</td>\n",
       "      <td>No</td>\n",
       "    </tr>\n",
       "    <tr>\n",
       "      <th>1</th>\n",
       "      <td>9237-HQITU</td>\n",
       "      <td>Yes</td>\n",
       "      <td>No</td>\n",
       "      <td>Fiber optic</td>\n",
       "      <td>No</td>\n",
       "      <td>No</td>\n",
       "      <td>No</td>\n",
       "      <td>No</td>\n",
       "      <td>No</td>\n",
       "      <td>No</td>\n",
       "    </tr>\n",
       "    <tr>\n",
       "      <th>2</th>\n",
       "      <td>9305-CDSKC</td>\n",
       "      <td>Yes</td>\n",
       "      <td>Yes</td>\n",
       "      <td>Fiber optic</td>\n",
       "      <td>No</td>\n",
       "      <td>No</td>\n",
       "      <td>Yes</td>\n",
       "      <td>No</td>\n",
       "      <td>Yes</td>\n",
       "      <td>Yes</td>\n",
       "    </tr>\n",
       "  </tbody>\n",
       "</table>\n",
       "</div>"
      ],
      "text/plain": [
       "      Cust_ID PhoneService MultipleLines InternetService OnlineSecurity  \\\n",
       "0  3668-QPYBK          Yes            No             DSL            Yes   \n",
       "1  9237-HQITU          Yes            No     Fiber optic             No   \n",
       "2  9305-CDSKC          Yes           Yes     Fiber optic             No   \n",
       "\n",
       "  OnlineBackup DeviceProtection TechSupport StreamingTV StreamingMovies  \n",
       "0          Yes               No          No          No              No  \n",
       "1           No               No          No          No              No  \n",
       "2           No              Yes          No         Yes             Yes  "
      ]
     },
     "execution_count": 10,
     "metadata": {},
     "output_type": "execute_result"
    }
   ],
   "source": [
    "cust_services.head(3)"
   ]
  },
  {
   "cell_type": "code",
   "execution_count": 11,
   "id": "149c44d6",
   "metadata": {},
   "outputs": [
    {
     "data": {
      "text/html": [
       "<div>\n",
       "<style scoped>\n",
       "    .dataframe tbody tr th:only-of-type {\n",
       "        vertical-align: middle;\n",
       "    }\n",
       "\n",
       "    .dataframe tbody tr th {\n",
       "        vertical-align: top;\n",
       "    }\n",
       "\n",
       "    .dataframe thead th {\n",
       "        text-align: right;\n",
       "    }\n",
       "</style>\n",
       "<table border=\"1\" class=\"dataframe\">\n",
       "  <thead>\n",
       "    <tr style=\"text-align: right;\">\n",
       "      <th></th>\n",
       "      <th>Cust_ID</th>\n",
       "      <th>State</th>\n",
       "      <th>Latitude</th>\n",
       "      <th>Longitude</th>\n",
       "      <th>ZipCode</th>\n",
       "    </tr>\n",
       "  </thead>\n",
       "  <tbody>\n",
       "    <tr>\n",
       "      <th>0</th>\n",
       "      <td>3668-QPYBK</td>\n",
       "      <td>California</td>\n",
       "      <td>33.964131</td>\n",
       "      <td>-118.272783</td>\n",
       "      <td>90003</td>\n",
       "    </tr>\n",
       "    <tr>\n",
       "      <th>1</th>\n",
       "      <td>9237-HQITU</td>\n",
       "      <td>California</td>\n",
       "      <td>34.059281</td>\n",
       "      <td>-118.307420</td>\n",
       "      <td>90005</td>\n",
       "    </tr>\n",
       "    <tr>\n",
       "      <th>2</th>\n",
       "      <td>9305-CDSKC</td>\n",
       "      <td>California</td>\n",
       "      <td>34.048013</td>\n",
       "      <td>-118.293953</td>\n",
       "      <td>90006</td>\n",
       "    </tr>\n",
       "  </tbody>\n",
       "</table>\n",
       "</div>"
      ],
      "text/plain": [
       "      Cust_ID       State   Latitude   Longitude  ZipCode\n",
       "0  3668-QPYBK  California  33.964131 -118.272783    90003\n",
       "1  9237-HQITU  California  34.059281 -118.307420    90005\n",
       "2  9305-CDSKC  California  34.048013 -118.293953    90006"
      ]
     },
     "execution_count": 11,
     "metadata": {},
     "output_type": "execute_result"
    }
   ],
   "source": [
    "cust_loc.head(3)"
   ]
  },
  {
   "cell_type": "code",
   "execution_count": 12,
   "id": "7d56f0bb",
   "metadata": {},
   "outputs": [
    {
     "data": {
      "text/html": [
       "<div>\n",
       "<style scoped>\n",
       "    .dataframe tbody tr th:only-of-type {\n",
       "        vertical-align: middle;\n",
       "    }\n",
       "\n",
       "    .dataframe tbody tr th {\n",
       "        vertical-align: top;\n",
       "    }\n",
       "\n",
       "    .dataframe thead th {\n",
       "        text-align: right;\n",
       "    }\n",
       "</style>\n",
       "<table border=\"1\" class=\"dataframe\">\n",
       "  <thead>\n",
       "    <tr style=\"text-align: right;\">\n",
       "      <th></th>\n",
       "      <th>Id</th>\n",
       "      <th>Churn</th>\n",
       "    </tr>\n",
       "  </thead>\n",
       "  <tbody>\n",
       "    <tr>\n",
       "      <th>0</th>\n",
       "      <td>3668-QPYBK</td>\n",
       "      <td>Yes</td>\n",
       "    </tr>\n",
       "    <tr>\n",
       "      <th>1</th>\n",
       "      <td>9237-HQITU</td>\n",
       "      <td>Yes</td>\n",
       "    </tr>\n",
       "    <tr>\n",
       "      <th>2</th>\n",
       "      <td>9305-CDSKC</td>\n",
       "      <td>Yes</td>\n",
       "    </tr>\n",
       "  </tbody>\n",
       "</table>\n",
       "</div>"
      ],
      "text/plain": [
       "           Id Churn\n",
       "0  3668-QPYBK   Yes\n",
       "1  9237-HQITU   Yes\n",
       "2  9305-CDSKC   Yes"
      ]
     },
     "execution_count": 12,
     "metadata": {},
     "output_type": "execute_result"
    }
   ],
   "source": [
    "cust_churn.head(3)"
   ]
  },
  {
   "cell_type": "code",
   "execution_count": 13,
   "id": "f1e63141",
   "metadata": {
    "scrolled": true
   },
   "outputs": [
    {
     "data": {
      "text/html": [
       "<div>\n",
       "<style scoped>\n",
       "    .dataframe tbody tr th:only-of-type {\n",
       "        vertical-align: middle;\n",
       "    }\n",
       "\n",
       "    .dataframe tbody tr th {\n",
       "        vertical-align: top;\n",
       "    }\n",
       "\n",
       "    .dataframe thead th {\n",
       "        text-align: right;\n",
       "    }\n",
       "</style>\n",
       "<table border=\"1\" class=\"dataframe\">\n",
       "  <thead>\n",
       "    <tr style=\"text-align: right;\">\n",
       "      <th></th>\n",
       "      <th>Account_id</th>\n",
       "      <th>Tenure</th>\n",
       "      <th>Contract</th>\n",
       "      <th>PaymentMethod</th>\n",
       "      <th>PaperlessBilling</th>\n",
       "      <th>MonthlyCharges</th>\n",
       "      <th>TotalCharges</th>\n",
       "    </tr>\n",
       "  </thead>\n",
       "  <tbody>\n",
       "    <tr>\n",
       "      <th>0</th>\n",
       "      <td>3668-QPYBK</td>\n",
       "      <td>2</td>\n",
       "      <td>Month-to-month</td>\n",
       "      <td>Mailed check</td>\n",
       "      <td>Yes</td>\n",
       "      <td>53.85</td>\n",
       "      <td>108.15</td>\n",
       "    </tr>\n",
       "    <tr>\n",
       "      <th>1</th>\n",
       "      <td>9237-HQITU</td>\n",
       "      <td>2</td>\n",
       "      <td>Month-to-month</td>\n",
       "      <td>Electronic check</td>\n",
       "      <td>Yes</td>\n",
       "      <td>70.70</td>\n",
       "      <td>151.65</td>\n",
       "    </tr>\n",
       "    <tr>\n",
       "      <th>2</th>\n",
       "      <td>9305-CDSKC</td>\n",
       "      <td>8</td>\n",
       "      <td>Month-to-month</td>\n",
       "      <td>Electronic check</td>\n",
       "      <td>Yes</td>\n",
       "      <td>99.65</td>\n",
       "      <td>820.5</td>\n",
       "    </tr>\n",
       "  </tbody>\n",
       "</table>\n",
       "</div>"
      ],
      "text/plain": [
       "   Account_id  Tenure        Contract     PaymentMethod PaperlessBilling  \\\n",
       "0  3668-QPYBK       2  Month-to-month      Mailed check              Yes   \n",
       "1  9237-HQITU       2  Month-to-month  Electronic check              Yes   \n",
       "2  9305-CDSKC       8  Month-to-month  Electronic check              Yes   \n",
       "\n",
       "   MonthlyCharges TotalCharges  \n",
       "0           53.85       108.15  \n",
       "1           70.70       151.65  \n",
       "2           99.65        820.5  "
      ]
     },
     "execution_count": 13,
     "metadata": {},
     "output_type": "execute_result"
    }
   ],
   "source": [
    "cust_account.head(3)"
   ]
  },
  {
   "cell_type": "code",
   "execution_count": null,
   "id": "11d9119a",
   "metadata": {},
   "outputs": [],
   "source": []
  },
  {
   "cell_type": "code",
   "execution_count": 14,
   "id": "de851895",
   "metadata": {},
   "outputs": [
    {
     "data": {
      "text/plain": [
       "(7043, 5)"
      ]
     },
     "execution_count": 14,
     "metadata": {},
     "output_type": "execute_result"
    }
   ],
   "source": [
    "cust_account.head()     # So all the dfs has same no. of rows, can be merged..\n",
    "cust_services.shape\n",
    "customer.shape"
   ]
  },
  {
   "cell_type": "code",
   "execution_count": 15,
   "id": "40edcf47",
   "metadata": {},
   "outputs": [],
   "source": [
    "#### Creating Database"
   ]
  },
  {
   "cell_type": "code",
   "execution_count": 16,
   "id": "4af91583",
   "metadata": {},
   "outputs": [],
   "source": [
    "conn= sqlite3.connect('churn.db')\n",
    "cur= conn.cursor()"
   ]
  },
  {
   "cell_type": "code",
   "execution_count": 17,
   "id": "f65c11fe",
   "metadata": {},
   "outputs": [],
   "source": [
    "# we gonna make table by converting dataframe to table\n",
    "# sqlite considers datatpe of dataframe and chooses suitable datatype in sql"
   ]
  },
  {
   "cell_type": "code",
   "execution_count": 78,
   "id": "2c39ccd8",
   "metadata": {},
   "outputs": [],
   "source": [
    "# create customer table\n",
    "customer.to_sql('customer', conn, if_exists= 'replace', index= False)"
   ]
  },
  {
   "cell_type": "code",
   "execution_count": null,
   "id": "1dd4e1a4",
   "metadata": {},
   "outputs": [],
   "source": [
    "# create customer services\n",
    "cust_services.to_sql('cust_services', conn, if_exists= 'replace', index= False)"
   ]
  },
  {
   "cell_type": "code",
   "execution_count": null,
   "id": "f8d48d67",
   "metadata": {},
   "outputs": [],
   "source": [
    "# create customer location table\n",
    "cust_loc.to_sql('cust_loc', conn, if_exists= 'replace', index= False)"
   ]
  },
  {
   "cell_type": "code",
   "execution_count": null,
   "id": "76394348",
   "metadata": {},
   "outputs": [],
   "source": [
    "# create customer account table\n",
    "cust_account.to_sql('cust_account', conn, if_exists= 'replace', index= False)"
   ]
  },
  {
   "cell_type": "code",
   "execution_count": null,
   "id": "9411c5dd",
   "metadata": {},
   "outputs": [],
   "source": [
    "# create customer churn table\n",
    "cust_churn.to_sql('cust_churn', conn, if_exists= 'replace', index= False)"
   ]
  },
  {
   "cell_type": "code",
   "execution_count": null,
   "id": "c0cdb96e",
   "metadata": {},
   "outputs": [],
   "source": [
    "# INFO ABOUT TABLE "
   ]
  },
  {
   "cell_type": "code",
   "execution_count": null,
   "id": "f5d2f43b",
   "metadata": {
    "scrolled": true
   },
   "outputs": [],
   "source": [
    "l= [customer, cust_services, cust_loc, cust_account, cust_churn]\n",
    "a=[]\n",
    "for i in l:\n",
    "    a.append(cur.execute('PRAGMA table_info(i)').fetchall())"
   ]
  },
  {
   "cell_type": "code",
   "execution_count": null,
   "id": "8bcfe936",
   "metadata": {
    "scrolled": false
   },
   "outputs": [],
   "source": [
    "cur.execute('PRAGMA table_info(cust_churn)').fetchall()"
   ]
  },
  {
   "cell_type": "markdown",
   "id": "572d0321",
   "metadata": {},
   "source": [
    "### Creating ER diagram for churn database"
   ]
  },
  {
   "cell_type": "code",
   "execution_count": null,
   "id": "e048243e",
   "metadata": {},
   "outputs": [],
   "source": [
    "def table_infofun(conn, cur):\n",
    "    #fetch all colms of the database table\n",
    "    tables= cur.execute('select name from sqlite_master where type= \"table\" ').fetchall()\n",
    "    for table_name in tables:\n",
    "        table_name= table_name[0]\n",
    "        table= pd.read_sql_query(f'select * from {table_name} limit 0', conn)\n",
    "        print(table_name)\n",
    "        for col in table.columns:\n",
    "            print('\\t' + col)\n",
    "            print()"
   ]
  },
  {
   "cell_type": "code",
   "execution_count": null,
   "id": "2dffd131",
   "metadata": {
    "scrolled": true
   },
   "outputs": [],
   "source": [
    "table_infofun(conn,cur)"
   ]
  },
  {
   "cell_type": "markdown",
   "id": "87679d3a",
   "metadata": {},
   "source": [
    "#### Now we'll do analysis on our database tables using SQL and gain some insight"
   ]
  },
  {
   "cell_type": "markdown",
   "id": "e741ca3f",
   "metadata": {},
   "source": [
    "    Exploratory data analysis in SQLite"
   ]
  },
  {
   "cell_type": "markdown",
   "id": "64afdc53",
   "metadata": {},
   "source": [
    "### Joining all Tables"
   ]
  },
  {
   "cell_type": "code",
   "execution_count": null,
   "id": "e1ed31df",
   "metadata": {},
   "outputs": [],
   "source": [
    "conn= sqlite3.connect('churn.db')\n",
    "cur= conn.cursor()"
   ]
  },
  {
   "cell_type": "markdown",
   "id": "81faabe0",
   "metadata": {},
   "source": [
    "cur.execute('alter table cust_loc rename column Cust_ID to CustomerID')"
   ]
  },
  {
   "cell_type": "code",
   "execution_count": 33,
   "id": "1f91801f",
   "metadata": {
    "scrolled": true
   },
   "outputs": [
    {
     "data": {
      "text/plain": [
       "[(0, 'CustomerID', 'TEXT', 0, None, 0),\n",
       " (1, 'State', 'TEXT', 0, None, 0),\n",
       " (2, 'Latitude', 'REAL', 0, None, 0),\n",
       " (3, 'Longitude', 'REAL', 0, None, 0),\n",
       " (4, 'ZipCode', 'INTEGER', 0, None, 0)]"
      ]
     },
     "execution_count": 33,
     "metadata": {},
     "output_type": "execute_result"
    }
   ],
   "source": [
    "cur.execute('PRAGMA table_info(cust_loc)')\n",
    "cur.fetchall()        # successfully renamed Colm "
   ]
  },
  {
   "cell_type": "code",
   "execution_count": null,
   "id": "dc0199fc",
   "metadata": {
    "scrolled": true
   },
   "outputs": [],
   "source": [
    "cur.execute('select * from customer inner join cust_loc using (CustomerID)').fetchone()\n",
    "# first row of joined table"
   ]
  },
  {
   "cell_type": "code",
   "execution_count": null,
   "id": "cfd0ca2f",
   "metadata": {},
   "outputs": [],
   "source": [
    "## we can do for all tables to join all tables in our SQL database"
   ]
  },
  {
   "cell_type": "code",
   "execution_count": 73,
   "id": "4de84e59",
   "metadata": {},
   "outputs": [],
   "source": [
    "#### To Join dataframes first rename columns to have single ID colm\n",
    "### Renaming colms of difft tables\n",
    "customer.rename(columns= {'CustomerID': 'customerID'}, inplace= True)\n",
    "cust_loc.rename(columns= {'Cust_ID':'customerID'},inplace= True)\n",
    "cust_services.rename(columns= {'Cust_ID':'customerID'},inplace= True)\n",
    "cust_account.rename(columns= {'Account_id':'customerID'},inplace= True)\n",
    "cust_churn.rename(columns= {'Id':'customerID'},inplace= True)"
   ]
  },
  {
   "cell_type": "code",
   "execution_count": 51,
   "id": "3f8ccc84",
   "metadata": {
    "scrolled": false
   },
   "outputs": [
    {
     "data": {
      "text/plain": [
       "(7043, 2)"
      ]
     },
     "execution_count": 51,
     "metadata": {},
     "output_type": "execute_result"
    }
   ],
   "source": [
    "cust_loc.head()\n",
    "cust_services.head()\n",
    "cust_account.head()\n",
    "cust_churn.shape"
   ]
  },
  {
   "cell_type": "code",
   "execution_count": 72,
   "id": "a7d72e47",
   "metadata": {},
   "outputs": [
    {
     "data": {
      "text/html": [
       "<div>\n",
       "<style scoped>\n",
       "    .dataframe tbody tr th:only-of-type {\n",
       "        vertical-align: middle;\n",
       "    }\n",
       "\n",
       "    .dataframe tbody tr th {\n",
       "        vertical-align: top;\n",
       "    }\n",
       "\n",
       "    .dataframe thead th {\n",
       "        text-align: right;\n",
       "    }\n",
       "</style>\n",
       "<table border=\"1\" class=\"dataframe\">\n",
       "  <thead>\n",
       "    <tr style=\"text-align: right;\">\n",
       "      <th></th>\n",
       "      <th>CustomerID</th>\n",
       "      <th>Gender</th>\n",
       "      <th>SeniorCitizen</th>\n",
       "      <th>Partner</th>\n",
       "      <th>Dependents</th>\n",
       "    </tr>\n",
       "  </thead>\n",
       "  <tbody>\n",
       "    <tr>\n",
       "      <th>0</th>\n",
       "      <td>3668-QPYBK</td>\n",
       "      <td>Male</td>\n",
       "      <td>No</td>\n",
       "      <td>No</td>\n",
       "      <td>No</td>\n",
       "    </tr>\n",
       "    <tr>\n",
       "      <th>1</th>\n",
       "      <td>9237-HQITU</td>\n",
       "      <td>Female</td>\n",
       "      <td>No</td>\n",
       "      <td>No</td>\n",
       "      <td>Yes</td>\n",
       "    </tr>\n",
       "    <tr>\n",
       "      <th>2</th>\n",
       "      <td>9305-CDSKC</td>\n",
       "      <td>Female</td>\n",
       "      <td>No</td>\n",
       "      <td>No</td>\n",
       "      <td>Yes</td>\n",
       "    </tr>\n",
       "    <tr>\n",
       "      <th>3</th>\n",
       "      <td>7892-POOKP</td>\n",
       "      <td>Female</td>\n",
       "      <td>No</td>\n",
       "      <td>Yes</td>\n",
       "      <td>Yes</td>\n",
       "    </tr>\n",
       "    <tr>\n",
       "      <th>4</th>\n",
       "      <td>0280-XJGEX</td>\n",
       "      <td>Male</td>\n",
       "      <td>No</td>\n",
       "      <td>No</td>\n",
       "      <td>Yes</td>\n",
       "    </tr>\n",
       "  </tbody>\n",
       "</table>\n",
       "</div>"
      ],
      "text/plain": [
       "   CustomerID  Gender SeniorCitizen Partner Dependents\n",
       "0  3668-QPYBK    Male            No      No         No\n",
       "1  9237-HQITU  Female            No      No        Yes\n",
       "2  9305-CDSKC  Female            No      No        Yes\n",
       "3  7892-POOKP  Female            No     Yes        Yes\n",
       "4  0280-XJGEX    Male            No      No        Yes"
      ]
     },
     "execution_count": 72,
     "metadata": {},
     "output_type": "execute_result"
    }
   ],
   "source": [
    "customer.head()"
   ]
  },
  {
   "cell_type": "code",
   "execution_count": 64,
   "id": "1219fa2b",
   "metadata": {},
   "outputs": [],
   "source": [
    "# Now we're are gonna concat join: inner, dataframe on common colm(customerID)\n",
    "l_cust= [customer, cust_loc, cust_services, cust_account, cust_churn]"
   ]
  },
  {
   "cell_type": "code",
   "execution_count": 9,
   "id": "33454f90",
   "metadata": {},
   "outputs": [],
   "source": [
    "# we can merge only 2 dataframes at a time, so let's use HIGHER ORDER FUN. Reduce()\n",
    "from functools import reduce"
   ]
  },
  {
   "cell_type": "code",
   "execution_count": 33,
   "id": "a3f86a86",
   "metadata": {
    "scrolled": true
   },
   "outputs": [],
   "source": [
    "# COMBINED DATAFRAME\n",
    "churn_all= reduce(lambda x,y : pd.merge(x,y, on=['customerID']), l_cust)"
   ]
  },
  {
   "cell_type": "code",
   "execution_count": 32,
   "id": "5fdaf306",
   "metadata": {
    "scrolled": false
   },
   "outputs": [
    {
     "data": {
      "text/plain": [
       "(7043, 10)"
      ]
     },
     "execution_count": 32,
     "metadata": {},
     "output_type": "execute_result"
    }
   ],
   "source": [
    "cust_services.shape"
   ]
  },
  {
   "cell_type": "code",
   "execution_count": 77,
   "id": "43ea4834",
   "metadata": {
    "scrolled": true
   },
   "outputs": [
    {
     "data": {
      "text/html": [
       "<div>\n",
       "<style scoped>\n",
       "    .dataframe tbody tr th:only-of-type {\n",
       "        vertical-align: middle;\n",
       "    }\n",
       "\n",
       "    .dataframe tbody tr th {\n",
       "        vertical-align: top;\n",
       "    }\n",
       "\n",
       "    .dataframe thead th {\n",
       "        text-align: right;\n",
       "    }\n",
       "</style>\n",
       "<table border=\"1\" class=\"dataframe\">\n",
       "  <thead>\n",
       "    <tr style=\"text-align: right;\">\n",
       "      <th></th>\n",
       "      <th>customerID</th>\n",
       "      <th>Gender</th>\n",
       "      <th>SeniorCitizen</th>\n",
       "      <th>Partner</th>\n",
       "      <th>Dependents</th>\n",
       "      <th>State</th>\n",
       "      <th>Latitude</th>\n",
       "      <th>Longitude</th>\n",
       "      <th>ZipCode</th>\n",
       "      <th>PhoneService</th>\n",
       "      <th>...</th>\n",
       "      <th>TechSupport</th>\n",
       "      <th>StreamingTV</th>\n",
       "      <th>StreamingMovies</th>\n",
       "      <th>Tenure</th>\n",
       "      <th>Contract</th>\n",
       "      <th>PaymentMethod</th>\n",
       "      <th>PaperlessBilling</th>\n",
       "      <th>MonthlyCharges</th>\n",
       "      <th>TotalCharges</th>\n",
       "      <th>Churn</th>\n",
       "    </tr>\n",
       "  </thead>\n",
       "  <tbody>\n",
       "    <tr>\n",
       "      <th>0</th>\n",
       "      <td>3668-QPYBK</td>\n",
       "      <td>Male</td>\n",
       "      <td>No</td>\n",
       "      <td>No</td>\n",
       "      <td>No</td>\n",
       "      <td>California</td>\n",
       "      <td>33.964131</td>\n",
       "      <td>-118.272783</td>\n",
       "      <td>90003</td>\n",
       "      <td>Yes</td>\n",
       "      <td>...</td>\n",
       "      <td>No</td>\n",
       "      <td>No</td>\n",
       "      <td>No</td>\n",
       "      <td>2</td>\n",
       "      <td>Month-to-month</td>\n",
       "      <td>Mailed check</td>\n",
       "      <td>Yes</td>\n",
       "      <td>53.85</td>\n",
       "      <td>108.15</td>\n",
       "      <td>Yes</td>\n",
       "    </tr>\n",
       "    <tr>\n",
       "      <th>1</th>\n",
       "      <td>9237-HQITU</td>\n",
       "      <td>Female</td>\n",
       "      <td>No</td>\n",
       "      <td>No</td>\n",
       "      <td>Yes</td>\n",
       "      <td>California</td>\n",
       "      <td>34.059281</td>\n",
       "      <td>-118.307420</td>\n",
       "      <td>90005</td>\n",
       "      <td>Yes</td>\n",
       "      <td>...</td>\n",
       "      <td>No</td>\n",
       "      <td>No</td>\n",
       "      <td>No</td>\n",
       "      <td>2</td>\n",
       "      <td>Month-to-month</td>\n",
       "      <td>Electronic check</td>\n",
       "      <td>Yes</td>\n",
       "      <td>70.70</td>\n",
       "      <td>151.65</td>\n",
       "      <td>Yes</td>\n",
       "    </tr>\n",
       "    <tr>\n",
       "      <th>2</th>\n",
       "      <td>9305-CDSKC</td>\n",
       "      <td>Female</td>\n",
       "      <td>No</td>\n",
       "      <td>No</td>\n",
       "      <td>Yes</td>\n",
       "      <td>California</td>\n",
       "      <td>34.048013</td>\n",
       "      <td>-118.293953</td>\n",
       "      <td>90006</td>\n",
       "      <td>Yes</td>\n",
       "      <td>...</td>\n",
       "      <td>No</td>\n",
       "      <td>Yes</td>\n",
       "      <td>Yes</td>\n",
       "      <td>8</td>\n",
       "      <td>Month-to-month</td>\n",
       "      <td>Electronic check</td>\n",
       "      <td>Yes</td>\n",
       "      <td>99.65</td>\n",
       "      <td>820.5</td>\n",
       "      <td>Yes</td>\n",
       "    </tr>\n",
       "    <tr>\n",
       "      <th>3</th>\n",
       "      <td>7892-POOKP</td>\n",
       "      <td>Female</td>\n",
       "      <td>No</td>\n",
       "      <td>Yes</td>\n",
       "      <td>Yes</td>\n",
       "      <td>California</td>\n",
       "      <td>34.062125</td>\n",
       "      <td>-118.315709</td>\n",
       "      <td>90010</td>\n",
       "      <td>Yes</td>\n",
       "      <td>...</td>\n",
       "      <td>Yes</td>\n",
       "      <td>Yes</td>\n",
       "      <td>Yes</td>\n",
       "      <td>28</td>\n",
       "      <td>Month-to-month</td>\n",
       "      <td>Electronic check</td>\n",
       "      <td>Yes</td>\n",
       "      <td>104.80</td>\n",
       "      <td>3046.05</td>\n",
       "      <td>Yes</td>\n",
       "    </tr>\n",
       "    <tr>\n",
       "      <th>4</th>\n",
       "      <td>0280-XJGEX</td>\n",
       "      <td>Male</td>\n",
       "      <td>No</td>\n",
       "      <td>No</td>\n",
       "      <td>Yes</td>\n",
       "      <td>California</td>\n",
       "      <td>34.039224</td>\n",
       "      <td>-118.266293</td>\n",
       "      <td>90015</td>\n",
       "      <td>Yes</td>\n",
       "      <td>...</td>\n",
       "      <td>No</td>\n",
       "      <td>Yes</td>\n",
       "      <td>Yes</td>\n",
       "      <td>49</td>\n",
       "      <td>Month-to-month</td>\n",
       "      <td>Bank transfer (automatic)</td>\n",
       "      <td>Yes</td>\n",
       "      <td>103.70</td>\n",
       "      <td>5036.3</td>\n",
       "      <td>Yes</td>\n",
       "    </tr>\n",
       "  </tbody>\n",
       "</table>\n",
       "<p>5 rows × 25 columns</p>\n",
       "</div>"
      ],
      "text/plain": [
       "   customerID  Gender SeniorCitizen Partner Dependents       State   Latitude  \\\n",
       "0  3668-QPYBK    Male            No      No         No  California  33.964131   \n",
       "1  9237-HQITU  Female            No      No        Yes  California  34.059281   \n",
       "2  9305-CDSKC  Female            No      No        Yes  California  34.048013   \n",
       "3  7892-POOKP  Female            No     Yes        Yes  California  34.062125   \n",
       "4  0280-XJGEX    Male            No      No        Yes  California  34.039224   \n",
       "\n",
       "    Longitude  ZipCode PhoneService  ... TechSupport StreamingTV  \\\n",
       "0 -118.272783    90003          Yes  ...          No          No   \n",
       "1 -118.307420    90005          Yes  ...          No          No   \n",
       "2 -118.293953    90006          Yes  ...          No         Yes   \n",
       "3 -118.315709    90010          Yes  ...         Yes         Yes   \n",
       "4 -118.266293    90015          Yes  ...          No         Yes   \n",
       "\n",
       "  StreamingMovies Tenure        Contract              PaymentMethod  \\\n",
       "0              No      2  Month-to-month               Mailed check   \n",
       "1              No      2  Month-to-month           Electronic check   \n",
       "2             Yes      8  Month-to-month           Electronic check   \n",
       "3             Yes     28  Month-to-month           Electronic check   \n",
       "4             Yes     49  Month-to-month  Bank transfer (automatic)   \n",
       "\n",
       "  PaperlessBilling MonthlyCharges  TotalCharges Churn  \n",
       "0              Yes          53.85        108.15   Yes  \n",
       "1              Yes          70.70        151.65   Yes  \n",
       "2              Yes          99.65         820.5   Yes  \n",
       "3              Yes         104.80       3046.05   Yes  \n",
       "4              Yes         103.70        5036.3   Yes  \n",
       "\n",
       "[5 rows x 25 columns]"
      ]
     },
     "execution_count": 77,
     "metadata": {},
     "output_type": "execute_result"
    }
   ],
   "source": [
    "churn_all.head()"
   ]
  },
  {
   "cell_type": "code",
   "execution_count": 74,
   "id": "ff613898",
   "metadata": {},
   "outputs": [],
   "source": [
    "# USING CONCAT TABLES in LIST\n",
    "churn_all= pd.concat(l_cust, join= 'inner', axis= 1)"
   ]
  },
  {
   "cell_type": "code",
   "execution_count": 75,
   "id": "d7ae095d",
   "metadata": {},
   "outputs": [],
   "source": [
    "churn_all= churn_all.loc[:, ~churn_all.columns.duplicated()]"
   ]
  },
  {
   "cell_type": "code",
   "execution_count": 76,
   "id": "70f9649c",
   "metadata": {
    "scrolled": false
   },
   "outputs": [
    {
     "data": {
      "text/plain": [
       "(7043, 25)"
      ]
     },
     "execution_count": 76,
     "metadata": {},
     "output_type": "execute_result"
    }
   ],
   "source": [
    "churn_all.shape"
   ]
  },
  {
   "cell_type": "markdown",
   "id": "38b5e3ba",
   "metadata": {},
   "source": [
    "WE HAVE A DATAFRAME WITH all tables but only unique colms"
   ]
  },
  {
   "cell_type": "code",
   "execution_count": 79,
   "id": "b3e42b41",
   "metadata": {},
   "outputs": [],
   "source": [
    "churn_all.to_sql('churn_all', conn, if_exists= 'replace', index= False)"
   ]
  },
  {
   "cell_type": "code",
   "execution_count": null,
   "id": "0f41b7da",
   "metadata": {},
   "outputs": [],
   "source": []
  }
 ],
 "metadata": {
  "kernelspec": {
   "display_name": "Python 3 (ipykernel)",
   "language": "python",
   "name": "python3"
  },
  "language_info": {
   "codemirror_mode": {
    "name": "ipython",
    "version": 3
   },
   "file_extension": ".py",
   "mimetype": "text/x-python",
   "name": "python",
   "nbconvert_exporter": "python",
   "pygments_lexer": "ipython3",
   "version": "3.9.7"
  }
 },
 "nbformat": 4,
 "nbformat_minor": 5
}
